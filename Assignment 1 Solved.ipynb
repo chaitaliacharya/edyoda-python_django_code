{
 "cells": [
  {
   "cell_type": "code",
   "execution_count": null,
   "metadata": {},
   "outputs": [],
   "source": []
  },
  {
   "cell_type": "code",
   "execution_count": null,
   "metadata": {},
   "outputs": [],
   "source": []
  },
  {
   "cell_type": "markdown",
   "metadata": {},
   "source": [
    "## Question 1"
   ]
  },
  {
   "cell_type": "code",
   "execution_count": 149,
   "metadata": {},
   "outputs": [],
   "source": [
    "def numbers_to_chars(num):\n",
    "    num_passed = []\n",
    "    count_of_numbers = []\n",
    "    alpha_num = {\n",
    "        2:{'a','b','c'},\n",
    "        3:{'d','e','f'},\n",
    "        4:{'g','h','i'},\n",
    "        5:{'j','k','l'},\n",
    "        6:{'m','n','o'},\n",
    "        7:{'p','q','r','s'},\n",
    "        8:{'t','u','v'},\n",
    "        9:{'w','x','y','z'}\n",
    "    }\n",
    "    \n",
    "    #Created a list of input nubers using list comprehension eg ip = 9994 list = ['9','9','9', '4']\n",
    "    num_passed = [int(i) for i in str(num)]\n",
    "    l = []\n",
    "    \n",
    "    #Created a list of tuple containg count and values eg. list = ['9','9','9', '4'] =>[(3,9), (1,4)]\n",
    "    new_list = []\n",
    "    i = 0\n",
    "    while i < len(num_passed):\n",
    "        if not l:\n",
    "            l.append(num_passed[i])\n",
    "        else:\n",
    "            if num_passed[i] == l[-1]:\n",
    "                l.append(num_passed[i])\n",
    "            else:\n",
    "                key = l.count(l[-1])\n",
    "                value = l[-1]\n",
    "                new_list.append((key,value))\n",
    "                l = []\n",
    "                l.append(num_passed[i])\n",
    "        i += 1\n",
    "    if l:\n",
    "        key = l.count(l[-1])\n",
    "        value = l[-1]\n",
    "        new_list.append((key,value))\n",
    "        \n",
    "    #replacing the count of the alphabet with the value in dictionary alphanum \n",
    "    #eg eg. [(3,9)(1,4)] so 3 times 9 so alphabet is y and 1 time 4 so alphabet is g\n",
    "    #So output is yg\n",
    "    st = ''\n",
    "    for k,v in new_list:\n",
    "        for num, alpha in alpha_num.items():\n",
    "            if v == 1 or v== 0:\n",
    "                return 'Invalid input at 1 or 0 present'\n",
    "                \n",
    "                \n",
    "            if v == num:\n",
    "                if v == 9 or v == 7:\n",
    "                    s = list(sorted(alpha_num[num], reverse = False))\n",
    "                    if k in [1,2,3,4]:\n",
    "                        st = st +  s[k-1]\n",
    "                    else:\n",
    "                        rem = k % len(s)\n",
    "                        st = st + s[rem - 1]\n",
    "                        rem = 0\n",
    "                else:\n",
    "                    s = list(sorted(alpha_num[num], reverse = False))\n",
    "                    if k in [1,2,3]:\n",
    "                        st = st + s[k-1]\n",
    "                    else:\n",
    "                        rem = k % len(s)\n",
    "                        st = st + s[k-1]\n",
    "                s = []\n",
    "    return str(st)\n"
   ]
  },
  {
   "cell_type": "code",
   "execution_count": null,
   "metadata": {},
   "outputs": [],
   "source": []
  },
  {
   "cell_type": "code",
   "execution_count": 151,
   "metadata": {},
   "outputs": [
    {
     "data": {
      "text/plain": [
       "'zeke'"
      ]
     },
     "execution_count": 151,
     "metadata": {},
     "output_type": "execute_result"
    }
   ],
   "source": [
    "numbers_to_chars(9999335533)"
   ]
  },
  {
   "cell_type": "markdown",
   "metadata": {},
   "source": [
    "## Question 2"
   ]
  },
  {
   "cell_type": "code",
   "execution_count": null,
   "metadata": {},
   "outputs": [],
   "source": [
    "# I was unable to to solve this as I could not get beyond the start point :("
   ]
  },
  {
   "cell_type": "markdown",
   "metadata": {},
   "source": [
    "# Question 3"
   ]
  },
  {
   "cell_type": "code",
   "execution_count": null,
   "metadata": {},
   "outputs": [],
   "source": [
    "states = {'New Hampshire': ['Concord', 'Hanover'],\n",
    "\n",
    "'Massachusetts': ['Boston', 'Concord', 'Springfield'],\n",
    "\n",
    "'Illinois': ['Chicago', 'Springfield', 'Peoria'] }\n",
    "\n",
    "def city_with_states(d):\n",
    "    state = {}\n",
    "    for key, value in d.items():\n",
    "        state[key] = value\n",
    "\n",
    "    cities = {}\n",
    "    for key_state,value_city in state.items():\n",
    "        for city in value_city:\n",
    "            if city not in cities:\n",
    "                cities.setdefault(city,key_state)\n",
    "            else:\n",
    "                if not isinstance(cities[city], list):\n",
    "                    temp = cities[city]\n",
    "                    cities[city] = [temp,key_state]\n",
    "                else:\n",
    "                    cities[city].append(key_state)\n",
    "    return cities"
   ]
  },
  {
   "cell_type": "markdown",
   "metadata": {},
   "source": [
    "## Question 4"
   ]
  },
  {
   "cell_type": "code",
   "execution_count": null,
   "metadata": {},
   "outputs": [],
   "source": [
    "# Valid parentheses\n",
    "def check_parentheses(string):\n",
    "    bracket_remaining = []\n",
    "    dic = {'(':')','{': '}', '[': ']'}\n",
    "    open_braces = ['(',  '{', '[']\n",
    "    for i in string:\n",
    "        if i not in dic.keys() and i not in dic.values():\n",
    "            return False\n",
    "        elif i in open_braces:\n",
    "            bracket_remaining.append(dic[i])\n",
    "        else: \n",
    "            if i == bracket_remaining[-1]:\n",
    "                bracket_remaining.pop()\n",
    "            else:\n",
    "                return False\n",
    "\n",
    "    if bracket_remaining:\n",
    "        return False\n",
    "    else:\n",
    "        return True"
   ]
  },
  {
   "cell_type": "markdown",
   "metadata": {},
   "source": [
    "## Question 5"
   ]
  },
  {
   "cell_type": "code",
   "execution_count": null,
   "metadata": {},
   "outputs": [],
   "source": [
    "# I was unable to build logic as for roman numbers"
   ]
  },
  {
   "cell_type": "markdown",
   "metadata": {},
   "source": [
    "## Question 6"
   ]
  },
  {
   "cell_type": "code",
   "execution_count": null,
   "metadata": {},
   "outputs": [],
   "source": [
    "import Line_Count_Utility as lc\n",
    "lines = lc.Count('Python1.txt')\n",
    "print('Number of lines in the file are:', lines)\n",
    "\n",
    "#Code in line count utility\n",
    "def Count(string):\n",
    "    fp = open(string, 'r')\n",
    "    line_cnt = 0\n",
    "    content = fp.readlines()\n",
    "    for i in content:\n",
    "        line_cnt +=1\n",
    "        if i == '\\n':\n",
    "            line_cnt -= 1\n",
    "        elif i[0] == '#':\n",
    "            line_cnt -= 1\n",
    "    fp.close()\n",
    "    return line_cnt\n",
    "    \n",
    "       \n"
   ]
  },
  {
   "cell_type": "markdown",
   "metadata": {},
   "source": [
    "## Question 7"
   ]
  },
  {
   "cell_type": "code",
   "execution_count": null,
   "metadata": {},
   "outputs": [],
   "source": [
    "import re\n",
    "\n",
    "def check_password_strength(password):\n",
    "    reasons = []\n",
    "\n",
    "    u = re.compile(\"[A-Z]+\")\n",
    "    d = re.compile(\"[0-9]+\")\n",
    "    s = re.compile(\"[!@#$&]\")\n",
    "    upper= re.search(u,password)\n",
    "    digit = re.search(d,password)\n",
    "    special_char = re.search(s,password)\n",
    "    if not upper:\n",
    "        reasons.append('At least one upper case char should be present')\n",
    "\n",
    "    if not digit:\n",
    "        reasons.append('At least one digit should be present')\n",
    "\n",
    "    if not special_char:\n",
    "        reasons.append('At least one of the special charaters !,@,#,$,& must be present')\n",
    "\n",
    "    if upper and digit and special_char:\n",
    "        return \"Password is accpeted\", password\n",
    "    else:\n",
    "        t = ('Weak password, reasons are :-',reasons)\n",
    "        return t"
   ]
  },
  {
   "cell_type": "markdown",
   "metadata": {},
   "source": [
    "## Question 8"
   ]
  },
  {
   "cell_type": "code",
   "execution_count": null,
   "metadata": {},
   "outputs": [],
   "source": [
    "def check_sentence(string):\n",
    "    import re\n",
    "    reasons = []\n",
    "    if type(string) != str:\n",
    "        return 'Invalid input'\n",
    "    else:\n",
    "        u = re.compile('^[A-Z]+')\n",
    "        s = re.compile('\\s')\n",
    "        d = re.compile('\\s{2}')\n",
    "        c = re.compile('[A-Z]{2}')\n",
    "        f = re.compile('([A-Z]{1})?\\.$')\n",
    "        upper = re.search(u, string)\n",
    "        spaces = re.search(s,string)\n",
    "        double_spaces = re.search(d,string)\n",
    "        continuous_upper_char = re.search(c,string)\n",
    "        fullstop_and_end_upper= re.search(f,string)\n",
    "        \n",
    "        if not upper:\n",
    "            reasons.append('The string must begin with Upper case')\n",
    "        \n",
    "        if not spaces:\n",
    "            reasons.append('No spaces between words')\n",
    "            \n",
    "        if double_spaces:\n",
    "            reasons.append('The sentence should not have double spaces')\n",
    "            \n",
    "        if  continuous_upper_char:\n",
    "            reasons.append('The sentence should not two continuous upper case char')\n",
    "            \n",
    "        if not fullstop_and_end_upper:\n",
    "            reasons.append('Sentence must end with fullstop')\n",
    "            \n",
    "            \n",
    "        if upper and spaces and not double_spaces and not continuous_upper_char and fullstop_and_end_upper:\n",
    "            return True\n",
    "        else:\n",
    "            return 'False, Sentense syntax is wrong due reasons such as:{}'.format(reasons)"
   ]
  },
  {
   "cell_type": "markdown",
   "metadata": {},
   "source": [
    "## Question 9"
   ]
  },
  {
   "cell_type": "code",
   "execution_count": null,
   "metadata": {},
   "outputs": [],
   "source": [
    "def greatest_sub_array(somelist, k):\n",
    "    if type(somelist) != list and type(k) != int:\n",
    "        return 'Please provide a list as input and integer as number input!'\n",
    "    else:\n",
    "        list_of_sublists = []\n",
    "        i = 0\n",
    "        while i < len(somelist)-1:\n",
    "            if len(somelist[i:i+k]) == k:\n",
    "                    list_of_sublists.append(somelist[i:i+k])\n",
    "            i += 1\n",
    "        return max(list_of_sublists)"
   ]
  },
  {
   "cell_type": "markdown",
   "metadata": {},
   "source": [
    "## Question 10"
   ]
  },
  {
   "cell_type": "code",
   "execution_count": null,
   "metadata": {},
   "outputs": [],
   "source": [
    "def adj_sum_even(somelist):\n",
    "    newlist = []\n",
    "    if type(somelist) != list:\n",
    "        return 'Please provide a list as input'\n",
    "    else:\n",
    "        i = 0\n",
    "        add= 0\n",
    "        \n",
    "        while i < len(somelist):\n",
    "            if i != len(somelist) -1:\n",
    "                add = somelist[i] + somelist[i+1]\n",
    "                if add %2  != 0:\n",
    "                    somelist.remove(somelist[i+1])\n",
    "                    i -= 1\n",
    "            i += 1\n",
    "    return somelist\n"
   ]
  },
  {
   "cell_type": "code",
   "execution_count": null,
   "metadata": {},
   "outputs": [],
   "source": []
  },
  {
   "cell_type": "code",
   "execution_count": null,
   "metadata": {},
   "outputs": [],
   "source": []
  }
 ],
 "metadata": {
  "kernelspec": {
   "display_name": "Python 3",
   "language": "python",
   "name": "python3"
  },
  "language_info": {
   "codemirror_mode": {
    "name": "ipython",
    "version": 3
   },
   "file_extension": ".py",
   "mimetype": "text/x-python",
   "name": "python",
   "nbconvert_exporter": "python",
   "pygments_lexer": "ipython3",
   "version": "3.7.1"
  }
 },
 "nbformat": 4,
 "nbformat_minor": 2
}
