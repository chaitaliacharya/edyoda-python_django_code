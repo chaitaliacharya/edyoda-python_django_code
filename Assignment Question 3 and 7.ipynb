{
 "cells": [
  {
   "cell_type": "code",
   "execution_count": 82,
   "metadata": {},
   "outputs": [],
   "source": [
    "states = {'New Hampshire': ['Concord', 'Hanover'],\n",
    "\n",
    "'Massachusetts': ['Boston', 'Concord', 'Springfield'],\n",
    "\n",
    "'Illinois': ['Chicago', 'Springfield', 'Peoria'] }\n",
    "\n",
    "def city_with_states(d):\n",
    "    state = {}\n",
    "    for key, value in d.items():\n",
    "        state[key] = value\n",
    "\n",
    "    cities = {}\n",
    "    for key_state,value_city in state.items():\n",
    "        for city in value_city:\n",
    "            if city not in cities:\n",
    "                cities.setdefault(city,key_state)\n",
    "            else:\n",
    "                if not isinstance(cities[city], list):\n",
    "                    temp = cities[city]\n",
    "                    cities[city] = [temp,key_state]\n",
    "                else:\n",
    "                    cities[city].append(key_state)\n",
    "    return cities\n"
   ]
  },
  {
   "cell_type": "code",
   "execution_count": 83,
   "metadata": {},
   "outputs": [
    {
     "data": {
      "text/plain": [
       "{'Concord': ['New Hampshire', 'Massachusetts'],\n",
       " 'Hanover': 'New Hampshire',\n",
       " 'Boston': 'Massachusetts',\n",
       " 'Springfield': ['Massachusetts', 'Illinois'],\n",
       " 'Chicago': 'Illinois',\n",
       " 'Peoria': 'Illinois'}"
      ]
     },
     "execution_count": 83,
     "metadata": {},
     "output_type": "execute_result"
    }
   ],
   "source": [
    "city_with_states(states)"
   ]
  },
  {
   "cell_type": "code",
   "execution_count": 166,
   "metadata": {},
   "outputs": [],
   "source": [
    "import re\n",
    "\n",
    "def check_password_strength(password):\n",
    "    reasons = []\n",
    "\n",
    "    u = re.compile(\"[A-Z]+\")\n",
    "    d = re.compile(\"[0-9]+\")\n",
    "    s = re.compile(\"[!@#$&]\")\n",
    "    upper= re.search(u,password)\n",
    "    digit = re.search(d,password)\n",
    "    special_char = re.search(s,password)\n",
    "    if not upper:\n",
    "        reasons.append('At least one upper case char should be present')\n",
    "\n",
    "    if not digit:\n",
    "        reasons.append('At least one digit should be present')\n",
    "\n",
    "    if not special_char:\n",
    "        reasons.append('At least one of the special charaters !,@,#,$,& must be present')\n",
    "\n",
    "    if upper and digit and special_char:\n",
    "        return \"Password is accpeted\", password\n",
    "    else:\n",
    "        t = ('Weak password, reasons are :-',reasons)\n",
    "        return t\n"
   ]
  },
  {
   "cell_type": "code",
   "execution_count": 165,
   "metadata": {},
   "outputs": [
    {
     "name": "stdout",
     "output_type": "stream",
     "text": [
      "<class 'tuple'>\n"
     ]
    },
    {
     "data": {
      "text/plain": [
       "('Weak password, reasons are :-',\n",
       " ['At least one upper case char should be present',\n",
       "  'At least one digit should be present',\n",
       "  'At least one of the special charaters !,@,#,$,& must be present'])"
      ]
     },
     "execution_count": 165,
     "metadata": {},
     "output_type": "execute_result"
    }
   ],
   "source": [
    "check_password_strength('assword')"
   ]
  },
  {
   "cell_type": "code",
   "execution_count": null,
   "metadata": {},
   "outputs": [],
   "source": [
    "7.Write a program to check the strength of a supplied password\n",
    "\n",
    "The length of the password must be at least 8 characters in length \n",
    "The password must contain at least 1 capital letter The password must contain at least 1 digit \n",
    "The password must contain at least 1 special character and allowed special characters are (!,@,#,$,&)\n",
    "\n",
    "We need to provide feedback to the user about the strength of their password\n",
    "\n",
    "Provide the user with a list of reasons why their password is 'weak'\n",
    "Function Name : check_password_strength Input : str Output : \n",
    "tuple (str,list) eg (\"Weak\",[\"The password must contain at least 1 capital letter\"])"
   ]
  },
  {
   "cell_type": "code",
   "execution_count": null,
   "metadata": {},
   "outputs": [],
   "source": []
  },
  {
   "cell_type": "code",
   "execution_count": null,
   "metadata": {},
   "outputs": [],
   "source": []
  },
  {
   "cell_type": "code",
   "execution_count": null,
   "metadata": {},
   "outputs": [],
   "source": []
  },
  {
   "cell_type": "code",
   "execution_count": null,
   "metadata": {},
   "outputs": [],
   "source": []
  }
 ],
 "metadata": {
  "kernelspec": {
   "display_name": "Python 3",
   "language": "python",
   "name": "python3"
  },
  "language_info": {
   "codemirror_mode": {
    "name": "ipython",
    "version": 3
   },
   "file_extension": ".py",
   "mimetype": "text/x-python",
   "name": "python",
   "nbconvert_exporter": "python",
   "pygments_lexer": "ipython3",
   "version": "3.7.3"
  }
 },
 "nbformat": 4,
 "nbformat_minor": 2
}
