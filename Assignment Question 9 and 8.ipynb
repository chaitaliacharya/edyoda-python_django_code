{
 "cells": [
  {
   "cell_type": "code",
   "execution_count": null,
   "metadata": {},
   "outputs": [],
   "source": [
    "5.Write a program to convert Integer to Roman String. For example, if a given integer is 5 then your program should print \"V\".\n",
    "\n",
    "Function Name : int_roman Input : int Output : str\n",
    "            \n",
    "            \n"
   ]
  },
  {
   "cell_type": "code",
   "execution_count": 59,
   "metadata": {},
   "outputs": [],
   "source": [
    "def int_roman(num):\n",
    "    if type(num) != int:\n",
    "        return \"Input should be a number\"\n",
    "    else:\n",
    "        roman = ['I', 'IV', 'V', 'IX', 'X', 'XL', 'L','XC','C','CD','D','CM','M' ]\n",
    "        digits = [1,4,5,9,10,40,50,90,100,400,500,900,1000]\n",
    "        \n",
    "        i = 12\n",
    "        while num:\n",
    "            div = num // digits[i]\n",
    "            num = num % digits[i]\n",
    "           \n",
    "            while div:\n",
    "                print(roman[i], end = \"\")\n",
    "                div = div -1 \n",
    "            i = i-1"
   ]
  },
  {
   "cell_type": "code",
   "execution_count": 40,
   "metadata": {},
   "outputs": [],
   "source": [
    "roman = {1:'I', 4:'IV', 5:'V', 9:'IX', 10:'X'}\n",
    "roman."
   ]
  },
  {
   "cell_type": "code",
   "execution_count": 61,
   "metadata": {},
   "outputs": [
    {
     "name": "stdout",
     "output_type": "stream",
     "text": [
      "DXL"
     ]
    }
   ],
   "source": [
    "int_roman(540)"
   ]
  },
  {
   "cell_type": "code",
   "execution_count": 11,
   "metadata": {},
   "outputs": [],
   "source": [
    "def printRoman(number): \n",
    "    num = [1, 4, 5, 9, 10, 40, 50, 90,  \n",
    "           100, 400, 500, 900, 1000] \n",
    "    sym = [\"I\", \"IV\", \"V\", \"IX\", \"X\", \"XL\",  \n",
    "           \"L\", \"XC\", \"C\", \"CD\", \"D\", \"CM\", \"M\"] \n",
    "    i = 12\n",
    "    while number: \n",
    "        div = number // num[i] \n",
    "        number %= num[i] \n",
    "  \n",
    "        while div: \n",
    "            print(sym[i], end = \"\") \n",
    "            div -= 1\n",
    "        i -= 1"
   ]
  },
  {
   "cell_type": "code",
   "execution_count": 12,
   "metadata": {},
   "outputs": [
    {
     "name": "stdout",
     "output_type": "stream",
     "text": [
      "1000 0\n",
      "900 0\n",
      "500 0\n",
      "400 0\n",
      "100 0\n",
      "90 0\n",
      "50 0\n",
      "40 0\n",
      "10 1\n",
      "X9 0\n",
      "5 0\n",
      "4 0\n",
      "1 2\n",
      "II"
     ]
    }
   ],
   "source": [
    "printRoman(12)"
   ]
  },
  {
   "cell_type": "code",
   "execution_count": null,
   "metadata": {},
   "outputs": [],
   "source": [
    "Check if given sentence is syntactically correct or not\n",
    "A simple sentence if syntactically correct if it fulfills given rules. The following are given rules.\n",
    "\n",
    "Sentence must start with a Uppercase character (e.g. Noun/ I/ We/ He etc.)\n",
    "There must be spaces between words.\n",
    "Then the sentence must end with a full stop(.).\n",
    "Two continuous spaces are not allowed.\n",
    "Two continuous uppercase characters are not allowed.\n",
    "However the sentence can end after an uppercase character.\n",
    "Function Name : check_sentence Input : str Output : tuple (True/False,list) eg (False,[\"There must be spaces between words.\"])"
   ]
  },
  {
   "cell_type": "code",
   "execution_count": 9,
   "metadata": {},
   "outputs": [],
   "source": [
    "def check_sentence(string):\n",
    "    import re\n",
    "    reasons = []\n",
    "    if type(string) != str:\n",
    "        return 'Invalid input'\n",
    "    else:\n",
    "        u = re.compile('^[A-Z]+')\n",
    "        s = re.compile('\\s')\n",
    "        d = re.compile('\\s{2}')\n",
    "        c = re.compile('[A-Z]{2}')\n",
    "        f = re.compile('([A-Z]{1})?\\.$')\n",
    "        upper = re.search(u, string)\n",
    "        spaces = re.search(s,string)\n",
    "        double_spaces = re.search(d,string)\n",
    "        continuous_upper_char = re.search(c,string)\n",
    "        fullstop_and_end_upper= re.search(f,string)\n",
    "        \n",
    "        if not upper:\n",
    "            reasons.append('The string must begin with Upper case')\n",
    "        \n",
    "        if not spaces:\n",
    "            reasons.append('No spaces between words')\n",
    "            \n",
    "        if double_spaces:\n",
    "            reasons.append('The sentence should not have double spaces')\n",
    "            \n",
    "        if  continuous_upper_char:\n",
    "            reasons.append('The sentence should not two continuous upper case char')\n",
    "            \n",
    "        if not fullstop_and_end_upper:\n",
    "            reasons.append('Sentence must end with fullstop')\n",
    "            \n",
    "            \n",
    "        if upper and spaces and not double_spaces and not continuous_upper_char and fullstop_and_end_upper:\n",
    "            return True\n",
    "        else:\n",
    "            return 'False, Sentense syntax is wrong due reasons such as:{}'.format(reasons)"
   ]
  },
  {
   "cell_type": "code",
   "execution_count": 14,
   "metadata": {},
   "outputs": [],
   "source": [
    "def greatest_sub_array(somelist, k):\n",
    "    if type(somelist) != list and type(k) != int:\n",
    "        return 'Please provide a list as input and integer as number input!'\n",
    "    else:\n",
    "        list_of_sublists = []\n",
    "        i = 0\n",
    "        while i < len(somelist)-1:\n",
    "            if len(somelist[i:i+k]) == k:\n",
    "                    list_of_sublists.append(somelist[i:i+k])\n",
    "            i += 1\n",
    "        return max(list_of_sublists)"
   ]
  },
  {
   "cell_type": "code",
   "execution_count": 17,
   "metadata": {},
   "outputs": [
    {
     "data": {
      "text/plain": [
       "[4, 3, 2, 5]"
      ]
     },
     "execution_count": 17,
     "metadata": {},
     "output_type": "execute_result"
    }
   ],
   "source": [
    "l = [1,4,3,2,5]\n",
    "greatest_sub_array(l, 4)"
   ]
  },
  {
   "cell_type": "code",
   "execution_count": 7,
   "metadata": {},
   "outputs": [],
   "source": [
    "def adj_sum_even(somelist):\n",
    "    newlist = []\n",
    "    if type(somelist) != list:\n",
    "        return 'Please provide a list as input'\n",
    "    else:\n",
    "        i = 0\n",
    "        add= 0\n",
    "        \n",
    "        while i < len(somelist):\n",
    "            if i != len(somelist) -1:\n",
    "                add = somelist[i] + somelist[i+1]\n",
    "                if add %2  != 0:\n",
    "                    somelist.remove(somelist[i+1])\n",
    "                    i -= 1\n",
    "            i += 1\n",
    "    return somelist"
   ]
  },
  {
   "cell_type": "code",
   "execution_count": 8,
   "metadata": {},
   "outputs": [
    {
     "data": {
      "text/plain": [
       "[1, 3, 5]"
      ]
     },
     "execution_count": 8,
     "metadata": {},
     "output_type": "execute_result"
    }
   ],
   "source": [
    "l = [1,3,5,4,2]\n",
    "adj_sum_even(l)"
   ]
  },
  {
   "cell_type": "code",
   "execution_count": null,
   "metadata": {},
   "outputs": [],
   "source": [
    "1.In the pre-smartphone era,each number key is assigned a subset of the alphabet {a,b,…,z}.\n",
    "\n",
    "- 2 is assigned {a,b,c}, \n",
    "- 3 is assigned {d,e,f} \n",
    "- 4 is assigned {g,h,i} \n",
    "- 5 is assigned {j,k,l}\n",
    "- 6 is assigned {m,n,o} \n",
    "- 7 is assigned {p,q,r,s}\n",
    "- 8 is assigned {t,u,v} \n",
    "- 9 is assigned {w,x,y,z}\n",
    "\n",
    "Write a function numbers_to_chars() to find the characters generated using key 9999335533. Output should be \"zeke\"\n",
    "\n",
    "Function Name : numbers_to_chars() Input : Integer number sequence Output : Str"
   ]
  },
  {
   "cell_type": "code",
   "execution_count": 21,
   "metadata": {},
   "outputs": [],
   "source": [
    "def numbers_to_chars(num):\n",
    "    num_passed = []\n",
    "    count_of_numbers = []\n",
    "    alpha_num = {\n",
    "        2:{'a','b','c'},\n",
    "        3:{'d','e','f'},\n",
    "        4:{'g','h','i'},\n",
    "        5:{'j','k','l'},\n",
    "        6:{'m','n','o'},\n",
    "        7:{'p','q','r','s'},\n",
    "        8:{'t','u','v'},\n",
    "        9:{'w','x','y','z'}\n",
    "    }\n",
    "    \n",
    "    num_passed = [i for i in str(num)]\n",
    "    l = []\n",
    "    new_dic = {}\n",
    "    \n",
    "    i = 0\n",
    "    while i < len(num_passed):\n",
    "        if not l:\n",
    "            l.append(num_passed[i])\n",
    "        else:\n",
    "            if num_passed[i] == l[-1]:\n",
    "                l.append(num_passed[i])\n",
    "            else:\n",
    "                key = l.count(l[-1])\n",
    "                value = l[-1]\n",
    "                new_dic.setdefault(key,value)\n",
    "                l = []\n",
    "                l.append(num_passed[i])\n",
    "        i += 1\n",
    "    if l:\n",
    "        key = l.count(l[-1])\n",
    "        value = l[-1]\n",
    "        new_dic.setdefault(key,value)\n",
    "    return new_dic\n"
   ]
  },
  {
   "cell_type": "code",
   "execution_count": 22,
   "metadata": {},
   "outputs": [
    {
     "data": {
      "text/plain": [
       "{4: '9', 2: '3', 1: '1'}"
      ]
     },
     "execution_count": 22,
     "metadata": {},
     "output_type": "execute_result"
    }
   ],
   "source": [
    "numbers_to_chars(9999331)"
   ]
  },
  {
   "cell_type": "code",
   "execution_count": null,
   "metadata": {},
   "outputs": [],
   "source": []
  },
  {
   "cell_type": "code",
   "execution_count": null,
   "metadata": {},
   "outputs": [],
   "source": []
  },
  {
   "cell_type": "code",
   "execution_count": null,
   "metadata": {},
   "outputs": [],
   "source": []
  },
  {
   "cell_type": "code",
   "execution_count": null,
   "metadata": {},
   "outputs": [],
   "source": []
  }
 ],
 "metadata": {
  "kernelspec": {
   "display_name": "Python 3",
   "language": "python",
   "name": "python3"
  },
  "language_info": {
   "codemirror_mode": {
    "name": "ipython",
    "version": 3
   },
   "file_extension": ".py",
   "mimetype": "text/x-python",
   "name": "python",
   "nbconvert_exporter": "python",
   "pygments_lexer": "ipython3",
   "version": "3.7.3"
  }
 },
 "nbformat": 4,
 "nbformat_minor": 2
}
