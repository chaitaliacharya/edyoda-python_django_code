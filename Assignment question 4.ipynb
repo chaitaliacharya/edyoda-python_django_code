{
 "cells": [
  {
   "cell_type": "code",
   "execution_count": null,
   "metadata": {},
   "outputs": [],
   "source": [
    "\n",
    "# 4.How do you check if a given String contains valid parentheses?\n",
    "# Given a string containing just the characters '(', ')', '{', '}', '[' and ']',\n",
    "# write a program in python to check if the input string is valid. \n",
    "#The brackets must close in the correct order, \"()\" and \"()[]{}\" are all valid but \"(]\" and \"([)]\" are not.\n",
    "# Function Name : check_parentheses Input : str Output : True/False"
   ]
  },
  {
   "cell_type": "code",
   "execution_count": 103,
   "metadata": {},
   "outputs": [],
   "source": [
    "def check_parentheses(string):\n",
    "    bracket_remaining = []\n",
    "    dic = {'(':')','{': '}', '[': ']'}\n",
    "    open_braces = ['(',  '{', '[']\n",
    "    for i in string:\n",
    "        if i not in dic.keys() and i not in dic.values():\n",
    "            return False\n",
    "        elif i in open_braces:\n",
    "            bracket_remaining.append(dic[i])\n",
    "        else: \n",
    "            if i == bracket_remaining[-1]:\n",
    "                bracket_remaining.pop()\n",
    "            else:\n",
    "                return False\n",
    "\n",
    "    if bracket_remaining:\n",
    "        return False\n",
    "    else:\n",
    "        return True"
   ]
  },
  {
   "cell_type": "code",
   "execution_count": null,
   "metadata": {},
   "outputs": [],
   "source": [
    "\n"
   ]
  },
  {
   "cell_type": "code",
   "execution_count": null,
   "metadata": {},
   "outputs": [],
   "source": []
  },
  {
   "cell_type": "code",
   "execution_count": null,
   "metadata": {},
   "outputs": [],
   "source": []
  },
  {
   "cell_type": "code",
   "execution_count": null,
   "metadata": {},
   "outputs": [],
   "source": []
  },
  {
   "cell_type": "code",
   "execution_count": null,
   "metadata": {},
   "outputs": [],
   "source": []
  }
 ],
 "metadata": {
  "kernelspec": {
   "display_name": "Python 3",
   "language": "python",
   "name": "python3"
  },
  "language_info": {
   "codemirror_mode": {
    "name": "ipython",
    "version": 3
   },
   "file_extension": ".py",
   "mimetype": "text/x-python",
   "name": "python",
   "nbconvert_exporter": "python",
   "pygments_lexer": "ipython3",
   "version": "3.7.1"
  }
 },
 "nbformat": 4,
 "nbformat_minor": 2
}
