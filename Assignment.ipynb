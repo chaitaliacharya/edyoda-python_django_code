{
 "cells": [
  {
   "cell_type": "code",
   "execution_count": 163,
   "metadata": {},
   "outputs": [],
   "source": [
    "def num_to_chars(num):\n",
    "    \n",
    "    num_list = []\n",
    "    count_of_numbers_in_num_list = {}\n",
    "    alpha_num = {2: ['a','b','c'],\n",
    "                 3: ['d','e','f'],\n",
    "                 4:['g','h','i'],\n",
    "                 5:['j','k','l'],\n",
    "                 6:['m','n','o'],\n",
    "                 7:['p','q','r','s'],\n",
    "                 8:['t','u','v'],\n",
    "                 9:['w','x','y','z']}\n",
    "    ans_str = ''\n",
    "\n",
    "    \n",
    "    #Breaking number into a list:\n",
    "    num_list = [int(value) for value in str(num)]\n",
    "\n",
    "    for key, value in enumerate(num_list):\n",
    "        count_of_numbers_in_num_list.setdefault(value,num_list.count(value))\n",
    "\n",
    "      \n",
    "    #Checking for incorrect input E.g=> 2 can be pressed only 3 times max at a go not more than that \n",
    "    for k, v in count_of_numbers_in_num_list.items():\n",
    "        if k in (0,1):\n",
    "            print('Input contains 0 or 1 so it is invalid input')\n",
    "            break\n",
    "        else:\n",
    "            for key, value in alpha_num.items():\n",
    "                if k == key:\n",
    "                    ans_str += value[v-1]\n",
    "                    \n",
    "    print(ans_str)"
   ]
  },
  {
   "cell_type": "code",
   "execution_count": 171,
   "metadata": {},
   "outputs": [
    {
     "ename": "IndexError",
     "evalue": "list index out of range",
     "output_type": "error",
     "traceback": [
      "\u001b[1;31m---------------------------------------------------------------------------\u001b[0m",
      "\u001b[1;31mIndexError\u001b[0m                                Traceback (most recent call last)",
      "\u001b[1;32m<ipython-input-171-017adbd66da9>\u001b[0m in \u001b[0;36m<module>\u001b[1;34m\u001b[0m\n\u001b[1;32m----> 1\u001b[1;33m \u001b[0mnum_to_chars\u001b[0m\u001b[1;33m(\u001b[0m\u001b[1;36m99999\u001b[0m\u001b[1;33m)\u001b[0m\u001b[1;33m\u001b[0m\u001b[1;33m\u001b[0m\u001b[0m\n\u001b[0m",
      "\u001b[1;32m<ipython-input-163-8c28b4a82f69>\u001b[0m in \u001b[0;36mnum_to_chars\u001b[1;34m(num)\u001b[0m\n\u001b[0;32m     33\u001b[0m             \u001b[1;32mfor\u001b[0m \u001b[0mkey\u001b[0m\u001b[1;33m,\u001b[0m \u001b[0mvalue\u001b[0m \u001b[1;32min\u001b[0m \u001b[0malpha_num\u001b[0m\u001b[1;33m.\u001b[0m\u001b[0mitems\u001b[0m\u001b[1;33m(\u001b[0m\u001b[1;33m)\u001b[0m\u001b[1;33m:\u001b[0m\u001b[1;33m\u001b[0m\u001b[1;33m\u001b[0m\u001b[0m\n\u001b[0;32m     34\u001b[0m                 \u001b[1;32mif\u001b[0m \u001b[0mk\u001b[0m \u001b[1;33m==\u001b[0m \u001b[0mkey\u001b[0m\u001b[1;33m:\u001b[0m\u001b[1;33m\u001b[0m\u001b[1;33m\u001b[0m\u001b[0m\n\u001b[1;32m---> 35\u001b[1;33m                     \u001b[0mans_str\u001b[0m \u001b[1;33m+=\u001b[0m \u001b[0mvalue\u001b[0m\u001b[1;33m[\u001b[0m\u001b[0mv\u001b[0m\u001b[1;33m-\u001b[0m\u001b[1;36m1\u001b[0m\u001b[1;33m]\u001b[0m\u001b[1;33m\u001b[0m\u001b[1;33m\u001b[0m\u001b[0m\n\u001b[0m\u001b[0;32m     36\u001b[0m \u001b[1;33m\u001b[0m\u001b[0m\n\u001b[0;32m     37\u001b[0m     \u001b[0mprint\u001b[0m\u001b[1;33m(\u001b[0m\u001b[0mans_str\u001b[0m\u001b[1;33m)\u001b[0m\u001b[1;33m\u001b[0m\u001b[1;33m\u001b[0m\u001b[0m\n",
      "\u001b[1;31mIndexError\u001b[0m: list index out of range"
     ]
    }
   ],
   "source": [
    "num_to_chars(9999)\n",
    "elif k in (2,3,4,5,6,8) and v not in range(1,8):\n",
    "            print('Count of numbers in the input is incorrect. Please check your input{} {}'.format(k,v))\n",
    "        elif k in (7,9) and v not in range(1,9):\n",
    "            print('Count of numbers in the input is incorrect. Please check your input{} {}'.format(k,v))"
   ]
  },
  {
   "cell_type": "code",
   "execution_count": 167,
   "metadata": {},
   "outputs": [],
   "source": [
    "def int_to_Roman(num):\n",
    "        val = [\n",
    "            1000, 900, 500, 400,\n",
    "            100, 90, 50, 40,\n",
    "            10, 9, 5, 4,\n",
    "            1\n",
    "            ]\n",
    "        syb = [\n",
    "            \"M\", \"CM\", \"D\", \"CD\",\n",
    "            \"C\", \"XC\", \"L\", \"XL\",\n",
    "            \"X\", \"IX\", \"V\", \"IV\",\n",
    "            \"I\"\n",
    "            ]\n",
    "        roman_num = ''\n",
    "        i = 0\n",
    "        while  num > 0:\n",
    "            for _ in range(num // val[i]):\n",
    "                roman_num += syb[i]\n",
    "                num -= val[i]\n",
    "            i += 1\n",
    "        return roman_num"
   ]
  },
  {
   "cell_type": "code",
   "execution_count": 169,
   "metadata": {},
   "outputs": [
    {
     "data": {
      "text/plain": [
       "'MMMMMMMMMMMMMMMMMMMMMMMMMMMMMMMMMMMMMMMCMXCIX'"
      ]
     },
     "execution_count": 169,
     "metadata": {},
     "output_type": "execute_result"
    }
   ],
   "source": [
    "int_to_Roman(39999)"
   ]
  },
  {
   "cell_type": "code",
   "execution_count": 142,
   "metadata": {},
   "outputs": [
    {
     "name": "stdout",
     "output_type": "stream",
     "text": [
      "2 ['a', 'b', 'c']\n",
      "3 ['d', 'e', 'f']\n",
      "4 ['g', 'h', 'i']\n",
      "5 ['j', 'k', 'l']\n",
      "6 ['m', 'n', 'o']\n",
      "7 ['p', 'q', 'r', 's']\n",
      "8 ['t', 'u', 'v']\n",
      "9 ['w', 'x', 'y', 'z']\n"
     ]
    }
   ],
   "source": [
    "alpha_num = {2: ['a','b','c'],\n",
    "                 3: ['d','e','f'],\n",
    "                 4:['g','h','i'],\n",
    "                 5:['j','k','l'],\n",
    "                 6:['m','n','o'],\n",
    "                 7:['p','q','r','s'],\n",
    "                 8:['t','u','v'],\n",
    "                 9:['w','x','y','z']}\n",
    "for k, v in alpha_num.items():\n",
    "    print(k,v)\n"
   ]
  },
  {
   "cell_type": "code",
   "execution_count": null,
   "metadata": {},
   "outputs": [],
   "source": [
    "  #Checking for invalid input e.g. 333333332 => This should be invalid as per me\n",
    "    count_values = []\n",
    "    for count in  count_of_numbers_in_num_list:\n",
    "        if count not in range(1,5):\n",
    "            print('Count of numbers in input is invalid')\n",
    "            break;\n",
    "        else:\n",
    "            count_values.append(count)"
   ]
  },
  {
   "cell_type": "code",
   "execution_count": 114,
   "metadata": {},
   "outputs": [],
   "source": [
    "num_list = [1,3]"
   ]
  },
  {
   "cell_type": "code",
   "execution_count": 112,
   "metadata": {},
   "outputs": [
    {
     "name": "stdout",
     "output_type": "stream",
     "text": [
      "dsd\n"
     ]
    }
   ],
   "source": [
    "if 0 in num_list or 1 in num_list:\n",
    "    print('dsd')"
   ]
  },
  {
   "cell_type": "code",
   "execution_count": null,
   "metadata": {},
   "outputs": [],
   "source": [
    "- 2 is assigned {a,b,c}, \n",
    "- 3 is assigned {d,e,f} \n",
    "- 4 is assigned {g,h,i} \n",
    "- 5 is assigned {j,k,l}\n",
    "- 6 is assigned {m,n,o} \n",
    "- 7 is assigned {p,q,r,s}\n",
    "- 8 is assigned {t,u,v} \n",
    "- 9 is assigned {w,x,y,z}"
   ]
  },
  {
   "cell_type": "code",
   "execution_count": 151,
   "metadata": {},
   "outputs": [
    {
     "name": "stdout",
     "output_type": "stream",
     "text": [
      "1\n",
      "2\n",
      "3\n",
      "4\n"
     ]
    }
   ],
   "source": [
    "for i in range(1,5):\n",
    "    print(i)"
   ]
  }
 ],
 "metadata": {
  "kernelspec": {
   "display_name": "Python 3",
   "language": "python",
   "name": "python3"
  },
  "language_info": {
   "codemirror_mode": {
    "name": "ipython",
    "version": 3
   },
   "file_extension": ".py",
   "mimetype": "text/x-python",
   "name": "python",
   "nbconvert_exporter": "python",
   "pygments_lexer": "ipython3",
   "version": "3.7.1"
  }
 },
 "nbformat": 4,
 "nbformat_minor": 2
}
