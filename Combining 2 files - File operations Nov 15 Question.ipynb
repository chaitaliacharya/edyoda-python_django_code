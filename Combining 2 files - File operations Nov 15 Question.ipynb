{
 "cells": [
  {
   "cell_type": "code",
   "execution_count": null,
   "metadata": {},
   "outputs": [],
   "source": [
    "fp1 = open(\"G:\\Python Files\\Python1.txt\",\"r\") \n",
    "fp2 = open(\"G:\\Python Files\\Python2.txt\",\"r\")\n",
    "\n",
    "content1 = fp1.readline()\n",
    "content2 = fp2.readline()\n",
    "\n",
    "content1_without_special_char = content1.replace(':', ' ') # Got rid of ':' in PEP PEP 578: Python Runtime Audit Hooks¶\n",
    "content2_without_special_char = content2.replace(':', ' ') # Gor rid of ':' in PEP 587: Python Initialization Configuration\n",
    "\n",
    "\n",
    "for i in content1_without_special_char.split():\n",
    "      if i.isdigit():\n",
    "            value_i = i\n",
    "            \n",
    "for j in content2_without_special_char.split():\n",
    "      if j.isdigit():\n",
    "            value_j = j\n",
    "            \n",
    "if(value_i < value_j):\n",
    "    fp3 = open(\"Combined.txt\",\"a+\")\n",
    "    fp1.seek(0)\n",
    "    fp2.seek(0)\n",
    "    content_from_file1 = fp1.read()\n",
    "    content_from_file2 = fp2.read()\n",
    "    fp3.write(content_from_file1)\n",
    "    fp3.seek(0,2)\n",
    "    fp3.write(content_from_file2)\n",
    "    fp3.close()\n",
    "else:\n",
    "    fp3 = open(\"Combined.txt\",\"a+\")\n",
    "    fp1.seek(0)\n",
    "    fp2.seek(0)\n",
    "    content_from_file1 = fp1.read()\n",
    "    content_from_file2 = fp2.read()\n",
    "    fp3.write(content_from_file2) # adding the second file first\n",
    "    fp3.seek(0,2)\n",
    "    fp3.write(content_from_file1)\n",
    "    fp3.close()\n",
    "    \n",
    "    \n",
    "fp1.close()\n",
    "fp2.close()"
   ]
  }
 ],
 "metadata": {
  "kernelspec": {
   "display_name": "Python 3",
   "language": "python",
   "name": "python3"
  },
  "language_info": {
   "codemirror_mode": {
    "name": "ipython",
    "version": 3
   },
   "file_extension": ".py",
   "mimetype": "text/x-python",
   "name": "python",
   "nbconvert_exporter": "python",
   "pygments_lexer": "ipython3",
   "version": "3.7.1"
  }
 },
 "nbformat": 4,
 "nbformat_minor": 2
}
