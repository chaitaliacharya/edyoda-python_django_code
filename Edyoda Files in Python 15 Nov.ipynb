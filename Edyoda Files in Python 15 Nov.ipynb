{
 "cells": [
  {
   "cell_type": "code",
   "execution_count": null,
   "metadata": {},
   "outputs": [],
   "source": [
    "Function parameters\n",
    "Positional parameter\n",
    "Keyword parameter\n",
    "Variable arguements => *args => tuple\n",
    "Variable keyword => **kwargs => dict"
   ]
  },
  {
   "cell_type": "code",
   "execution_count": null,
   "metadata": {},
   "outputs": [],
   "source": [
    "l = [1,2,3]\n",
    "l.pop(2) => index\n",
    "l.remove(2) =>value"
   ]
  },
  {
   "cell_type": "code",
   "execution_count": null,
   "metadata": {},
   "outputs": [],
   "source": [
    "d = {}\n",
    "l = [10,20,30]\n",
    "d = {[10,20,30] :3}"
   ]
  },
  {
   "cell_type": "code",
   "execution_count": null,
   "metadata": {},
   "outputs": [],
   "source": [
    "dictionary\n",
    "all keys should be unique\n",
    "all keys should be immutable"
   ]
  },
  {
   "cell_type": "code",
   "execution_count": null,
   "metadata": {},
   "outputs": [],
   "source": [
    "File operations"
   ]
  },
  {
   "cell_type": "code",
   "execution_count": null,
   "metadata": {},
   "outputs": [],
   "source": [
    "fp = open(\"filename.txt\",\"r\")"
   ]
  },
  {
   "cell_type": "code",
   "execution_count": null,
   "metadata": {},
   "outputs": [],
   "source": [
    "Different modes:\n",
    "    r: read \n",
    "    r+: read + write\n",
    "    w: write\n",
    "    w+: write + read\n",
    "    a: append\n",
    "    a+: append + write"
   ]
  },
  {
   "cell_type": "code",
   "execution_count": 8,
   "metadata": {},
   "outputs": [
    {
     "name": "stdout",
     "output_type": "stream",
     "text": [
      "This is line 1\n",
      "This is line 2\n",
      "This is line 3\n",
      "This is line 4\n",
      "This is line 5\n",
      "This is line 6\n",
      "This is line 7\n",
      "<class 'str'>\n"
     ]
    }
   ],
   "source": [
    "fp = open(\"Somefile.txt\",\"r\")\n",
    "content = fp.read()\n",
    "print(content)\n",
    "print(type(content))\n",
    "fp.close()\n"
   ]
  },
  {
   "cell_type": "code",
   "execution_count": 10,
   "metadata": {},
   "outputs": [
    {
     "name": "stdout",
     "output_type": "stream",
     "text": [
      "This is li\n"
     ]
    }
   ],
   "source": [
    "fp = open(\"Somefile.txt\",\"r\")\n",
    "content = fp.read(10) # Reads number of characters\n",
    "print(content)\n",
    "fp.close()\n"
   ]
  },
  {
   "cell_type": "code",
   "execution_count": 11,
   "metadata": {},
   "outputs": [
    {
     "name": "stdout",
     "output_type": "stream",
     "text": [
      "This is li\n"
     ]
    }
   ],
   "source": [
    "fp = open(\"Somefile.txt\",\"r\")\n",
    "content = fp.read(10) # Reads number of characters\n",
    "print((content))\n",
    "fp.close()"
   ]
  },
  {
   "cell_type": "code",
   "execution_count": 15,
   "metadata": {},
   "outputs": [
    {
     "name": "stdout",
     "output_type": "stream",
     "text": [
      "This is line 1\n",
      "\n",
      "This is line 2\n",
      "\n"
     ]
    }
   ],
   "source": [
    "fp = open(\"Somefile.txt\",\"r\")\n",
    "content = fp.readline() # Reads one line\n",
    "print((content))\n",
    "content = fp.readline() \n",
    "print((content))\n",
    "fp.close()"
   ]
  },
  {
   "cell_type": "code",
   "execution_count": 16,
   "metadata": {},
   "outputs": [
    {
     "name": "stdout",
     "output_type": "stream",
     "text": [
      "['This is line 1\\n', 'This is line 2\\n', 'This is line 3\\n', 'This is line 4\\n', 'This is line 5\\n', 'This is line 6\\n', 'This is line 7']\n"
     ]
    }
   ],
   "source": [
    "fp = open(\"Somefile.txt\",\"r\")\n",
    "content = fp.readlines() # Reads the entire file in a list containing strings\n",
    "print((content))\n",
    "fp.close()"
   ]
  },
  {
   "cell_type": "code",
   "execution_count": 17,
   "metadata": {},
   "outputs": [
    {
     "name": "stdout",
     "output_type": "stream",
     "text": [
      "7\n"
     ]
    }
   ],
   "source": [
    "fp = open(\"Somefile.txt\",\"r\")\n",
    "content = fp.readlines() # Reads the entire file in a list containing strings\n",
    "print(len(content))\n",
    "fp.close()"
   ]
  },
  {
   "cell_type": "code",
   "execution_count": 18,
   "metadata": {},
   "outputs": [
    {
     "name": "stdout",
     "output_type": "stream",
     "text": [
      "This is line 1\n",
      "\n",
      "This is line 2\n",
      "\n",
      "This is line 3\n",
      "\n",
      "This is line 4\n",
      "\n",
      "This is line 5\n",
      "\n",
      "This is line 6\n",
      "\n",
      "This is line 7\n"
     ]
    }
   ],
   "source": [
    "#Iterating through file ptr\n",
    "fp = open(\"Somefile.txt\",\"r\")\n",
    "for x in fp:\n",
    "    print(x)\n",
    "fp.close()"
   ]
  },
  {
   "cell_type": "code",
   "execution_count": 19,
   "metadata": {},
   "outputs": [
    {
     "name": "stdout",
     "output_type": "stream",
     "text": [
      "This is line 1\n",
      "\n"
     ]
    }
   ],
   "source": [
    "fp = open(\"Somefile.txt\",\"r\")\n",
    "print(next(fp))\n",
    "fp.close()"
   ]
  },
  {
   "cell_type": "code",
   "execution_count": null,
   "metadata": {},
   "outputs": [],
   "source": [
    "#In read mode we can only read the file \n",
    "#We can only read if the file exits or we will get an error"
   ]
  },
  {
   "cell_type": "code",
   "execution_count": 20,
   "metadata": {},
   "outputs": [],
   "source": [
    "fp = open(\"Somefile.txt\",\"w+\")\n",
    "fp.write(\"trying to write\")\n",
    "fp.close()"
   ]
  },
  {
   "cell_type": "code",
   "execution_count": null,
   "metadata": {},
   "outputs": [],
   "source": [
    "tell() - current fp position\n",
    "seek() - to change fp position\n",
    "    offset, position\n",
    "    \n",
    "offset: how many char\n",
    "\n",
    "position:\n",
    "    0: start of file\n",
    "    1: current position\n",
    "    2: end of file\n",
    "        \n",
    "seek(15,0) => Move the file pointer 15 chars from the start\n",
    "seek(0,0) => Move the file pointer 0 chars from the start\n",
    "seek(0,2) => end of file\n",
    "seek(15,1)\n",
    "Positive offset value only works with start of the file"
   ]
  },
  {
   "cell_type": "code",
   "execution_count": 32,
   "metadata": {},
   "outputs": [
    {
     "name": "stdout",
     "output_type": "stream",
     "text": [
      "0\n",
      "16\n",
      "16\n"
     ]
    }
   ],
   "source": [
    "fp = open(\"Somefile.txt\",\"w+\")\n",
    "print(fp.tell())\n",
    "fp.write('Wrote a new line')\n",
    "print(fp.tell())\n",
    "fp.read()\n",
    "print(fp.tell())\n",
    "fp.close()"
   ]
  },
  {
   "cell_type": "code",
   "execution_count": 37,
   "metadata": {},
   "outputs": [
    {
     "name": "stdout",
     "output_type": "stream",
     "text": [
      "0\n",
      "16\n",
      "0\n",
      "16\n",
      "Wrote a new line\n"
     ]
    }
   ],
   "source": [
    "fp = open(\"Somefile.txt\",\"w+\")\n",
    "print(fp.tell())\n",
    "fp.write('Wrote a new line')\n",
    "print(fp.tell())\n",
    "fp.seek(0)\n",
    "print(fp.tell())\n",
    "r = fp.read()\n",
    "print(fp.tell())\n",
    "print(r)\n",
    "fp.close()"
   ]
  },
  {
   "cell_type": "code",
   "execution_count": null,
   "metadata": {},
   "outputs": [],
   "source": [
    "w+ : write + read\n",
    "     it overrides the previous content\n",
    "     creates a new file if file did not exist\n",
    "\n",
    "r+ : read + write\n",
    "     it does not override previous content\n",
    "     does not create a file if file did not exist\n"
   ]
  },
  {
   "cell_type": "code",
   "execution_count": null,
   "metadata": {},
   "outputs": [],
   "source": [
    "#Reading a file in a different location altogether"
   ]
  },
  {
   "cell_type": "code",
   "execution_count": 48,
   "metadata": {},
   "outputs": [
    {
     "name": "stdout",
     "output_type": "stream",
     "text": [
      "10119\n"
     ]
    }
   ],
   "source": [
    "fp = open(\"G:\\Python Files\\What_new_python.txt\",\"r+\")\n",
    "fp.seek(0,2)\n",
    "# print(content)\n",
    "data = \"\"\"\n",
    "\\n\\n\\n\\n\\n\\n\\n\\n\\n\\n\\n\\n\\n\n",
    "def quantiles(dist, /, *, n=4, method='exclusive')\n",
    "    ...\n",
    "Since the parameters to the left of / are not exposed as possible keywords, the parameters names remain available for use in **kwargs:\n",
    "\n",
    ">>>\n",
    ">>> def f(a, b, /, **kwargs):\n",
    "...     print(a, b, kwargs)\n",
    "...\n",
    ">>> f(10, 20, a=1, b=2, c=3)         # a and b are used in two ways\n",
    "10 20 {'a': 1, 'b': 2, 'c': 3}\n",
    "This greatly simplifies the implementation of functions and methods that need to accept arbitrary keyword arguments. For example, here is an excerpt from code in the collections module:\n",
    "\n",
    "class Counter(dict):\n",
    "\n",
    "    def __init__(self, iterable=None, /, **kwds):\n",
    "        # Note \"iterable\" is a possible keyword argument\n",
    "See PEP 570 for a full description.\n",
    "\n",
    "(Contributed by Pablo Galindo in bpo-36540.)\n",
    "\n",
    "Parallel filesystem cache for compiled bytecode files\n",
    "The new PYTHONPYCACHEPREFIX setting (also available as -X pycache_prefix) configures the implicit bytecode cache to use a separate parallel filesystem tree, rather than the default __pycache__ subdirectories within each source directory.\n",
    "\n",
    "The location of the cache is reported in sys.pycache_prefix (None indicates the default location in __pycache__ subdirectories).\n",
    "\n",
    "(Contributed by Carl Meyer in bpo-33499.)\n",
    "\n",
    "Debug build uses the same ABI as release build\n",
    "Python now uses the same ABI whether it’s built in release or debug mode. On Unix, when Python is built in debug mode, it is now possible to load C extensions built in release mode and C extensions built using the stable ABI.\n",
    "\n",
    "Release builds and debug builds are now ABI compatible: defining the Py_DEBUG macro no longer implies the Py_TRACE_REFS macro, which introduces the only ABI incompatibility. The Py_TRACE_REFS macro, which adds the sys.getobjects() function and the PYTHONDUMPREFS environment variable, can be set using the new ./configure --with-trace-refs build option. (Contributed by Victor Stinner in bpo-36465.)\n",
    "\n",
    "On Unix, C extensions are no longer linked to libpython except on Android and Cygwin. It is now possible for a statically linked Python to load a C extension built using a shared library Python. (Contributed by Victor Stinner in bpo-21536.)\n",
    "\n",
    "On Unix, when Python is built in debug mode, import now also looks for C extensions compiled in release mode and for C extensions compiled with the stable ABI. (Contributed by Victor Stinner in bpo-36722.)\n",
    "\n",
    "To embed Python into an application, a new --embed option must be passed to python3-config --libs --embed to get -lpython3.8 (link the application to libpython). To support both 3.8 and older, try python3-config --libs --embed first and fallback to python3-config --libs (without --embed) if the previous command fails.\n",
    "\n",
    "Add a pkg-config python-3.8-embed module to embed Python into an application: pkg-config python-3.8-embed --libs includes -lpython3.8. To support both 3.8 and older, try pkg-config python-X.Y-embed --libs first and fallback to pkg-config python-X.Y --libs (without --embed) if the previous command fails (replace X.Y with the Python version).\n",
    "\n",
    "On the other hand, pkg-config python3.8 --libs no longer contains -lpython3.8. C extensions must not be linked to libpython (except on Android and Cygwin, whose cases are handled by the script); this change is backward incompatible on purpose. (Contributed by Victor Stinner in bpo-36721.)\n",
    "\n",
    "f-strings support = for self-documenting expressions and debugging¶\n",
    "\"\"\"\n",
    "fp.write(data)\n",
    "print(fp.tell())\n",
    "fp.close()"
   ]
  },
  {
   "cell_type": "code",
   "execution_count": 49,
   "metadata": {},
   "outputs": [
    {
     "name": "stdout",
     "output_type": "stream",
     "text": [
      "16\n",
      "Wrote a new line\n",
      " \n",
      " seek(15,1) to next release\n"
     ]
    }
   ],
   "source": [
    "fp = open(\"Somefile.txt\",\"a+\")\n",
    "print(fp.tell())\n",
    "fp.write(\"\\n \\n seek(15,1) to next release\")\n",
    "fp.seek(0)\n",
    "r = fp.read()\n",
    "print(r)\n",
    "fp.close()\n"
   ]
  },
  {
   "cell_type": "code",
   "execution_count": 50,
   "metadata": {},
   "outputs": [
    {
     "name": "stdout",
     "output_type": "stream",
     "text": [
      "48\n",
      "Wrote a new line\n",
      " \n",
      " seek(15,1) to next release\n",
      " \n",
      " seek(15,1) to next release\n",
      " \n",
      " seek(15,1) to next release\n"
     ]
    }
   ],
   "source": [
    "fp = open(\"Somefile.txt\",\"a+\")\n",
    "print(fp.tell())\n",
    "fp.writelines([\"\\n \\n seek(15,1) to next release\",\"\\n \\n seek(15,1) to next release\"])\n",
    "fp.seek(0)\n",
    "r = fp.read()\n",
    "print(r)\n",
    "fp.close()\n"
   ]
  },
  {
   "cell_type": "code",
   "execution_count": 151,
   "metadata": {},
   "outputs": [],
   "source": [
    "fp1 = open(\"G:\\Python Files\\Python1.txt\",\"r\") \n",
    "fp2 = open(\"G:\\Python Files\\Python2.txt\",\"r\")\n",
    "\n",
    "content1 = fp1.readline()\n",
    "content2 = fp2.readline()\n",
    "\n",
    "content1_without_special_char = content1.replace(':', ' ') # Got rid of ':' in PEP PEP 578: Python Runtime Audit Hooks¶\n",
    "content2_without_special_char = content2.replace(':', ' ') # Gor rid of ':' in PEP 587: Python Initialization Configuration\n",
    "\n",
    "\n",
    "for i in content1_without_special_char.split():\n",
    "      if i.isdigit():\n",
    "            value_i = i\n",
    "            \n",
    "for j in content2_without_special_char.split():\n",
    "      if j.isdigit():\n",
    "            value_j = j\n",
    "            \n",
    "if(value_i < value_j):\n",
    "    fp3 = open(\"Combined.txt\",\"a+\")\n",
    "    fp1.seek(0)\n",
    "    fp2.seek(0)\n",
    "    content_from_file1 = fp1.read()\n",
    "    content_from_file2 = fp2.read()\n",
    "    fp3.write(content_from_file1)\n",
    "    fp3.seek(0,2)\n",
    "    fp3.write(content_from_file2)\n",
    "    fp3.close()\n",
    "else:\n",
    "    fp3 = open(\"Combined.txt\",\"a+\")\n",
    "    fp1.seek(0)\n",
    "    fp2.seek(0)\n",
    "    content_from_file1 = fp1.read()\n",
    "    content_from_file2 = fp2.read()\n",
    "    fp3.write(content_from_file2) # adding the second file first\n",
    "    fp3.seek(0,2)\n",
    "    fp3.write(content_from_file1)\n",
    "    fp3.close()\n",
    "    \n",
    "    \n",
    "fp1.close()\n",
    "fp2.close()"
   ]
  },
  {
   "cell_type": "code",
   "execution_count": 113,
   "metadata": {},
   "outputs": [
    {
     "name": "stdout",
     "output_type": "stream",
     "text": [
      "[]\n"
     ]
    }
   ],
   "source": [
    "str = \"PEP 578: Python Runtime Audit Hooks¶\"\n",
    "red = [str(s) for s in str.split() if s.isdigit()]\n",
    "print(red)"
   ]
  },
  {
   "cell_type": "code",
   "execution_count": 131,
   "metadata": {},
   "outputs": [],
   "source": [
    "str = \"PEP 578 Python Runtime Audit Hooks\" "
   ]
  },
  {
   "cell_type": "code",
   "execution_count": 121,
   "metadata": {},
   "outputs": [
    {
     "data": {
      "text/plain": [
       "'PEP 578: Python Runtime Audit Hooks'"
      ]
     },
     "execution_count": 121,
     "metadata": {},
     "output_type": "execute_result"
    }
   ],
   "source": []
  },
  {
   "cell_type": "code",
   "execution_count": 132,
   "metadata": {},
   "outputs": [
    {
     "data": {
      "text/plain": [
       "[578]"
      ]
     },
     "execution_count": 132,
     "metadata": {},
     "output_type": "execute_result"
    }
   ],
   "source": [
    "[int(s) for s in str.split() if s.isdigit()]"
   ]
  }
 ],
 "metadata": {
  "kernelspec": {
   "display_name": "Python 3",
   "language": "python",
   "name": "python3"
  },
  "language_info": {
   "codemirror_mode": {
    "name": "ipython",
    "version": 3
   },
   "file_extension": ".py",
   "mimetype": "text/x-python",
   "name": "python",
   "nbconvert_exporter": "python",
   "pygments_lexer": "ipython3",
   "version": "3.7.1"
  }
 },
 "nbformat": 4,
 "nbformat_minor": 2
}
