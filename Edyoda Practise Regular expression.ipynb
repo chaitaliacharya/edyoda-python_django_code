{
 "cells": [
  {
   "cell_type": "markdown",
   "metadata": {},
   "source": [
    "### Regular Expression"
   ]
  },
  {
   "cell_type": "code",
   "execution_count": null,
   "metadata": {},
   "outputs": [],
   "source": [
    "1. Pattern Extraction\n",
    "2. Pattern Validation"
   ]
  },
  {
   "cell_type": "code",
   "execution_count": 2,
   "metadata": {},
   "outputs": [],
   "source": [
    "import re # The library for Regular Expression in Python"
   ]
  },
  {
   "cell_type": "code",
   "execution_count": 3,
   "metadata": {},
   "outputs": [
    {
     "name": "stdout",
     "output_type": "stream",
     "text": [
      "['ab', 'ab', 'ab']\n"
     ]
    }
   ],
   "source": [
    "s = \"abssjdlldabkiikab\"\n",
    "r = re.compile(\"ab\") #Constructs the regular expression\n",
    "l = re.findall(r,s)# Finds all occurences of the string \n",
    "print(l)"
   ]
  },
  {
   "cell_type": "code",
   "execution_count": null,
   "metadata": {},
   "outputs": [],
   "source": [
    "\n",
    "    Regx Metachars:\n",
    "    . =>match with all chars(alpha, digits, specialchars) => single occurence\n",
    "    [a-z] => match with only alpha a-z => single occurence\n",
    "    [A-Z] => match only with alpha A-Z => single occurence\n",
    "    [0-9] => digit class =>single occurence\n",
    "    + => one or more occurence\n",
    "    * => zero or more occurence\n",
    "    ^ => the start of the string\n",
    "    $ => mathces the end of the string\n",
    "    [a-z]{5} => matching 5 elements\n",
    "    [a-z]{1,3} => minimum 1 maximum 3\n",
    "    ? => optional\n",
    "    ^ inside means complment"
   ]
  },
  {
   "cell_type": "code",
   "execution_count": 4,
   "metadata": {},
   "outputs": [
    {
     "name": "stdout",
     "output_type": "stream",
     "text": [
      "['a', 'b', 's', 's', 'j', 'd', 'l', 'l', 'd', 'a', 'b', 'k', 'i', 'i', 'k', 'a', 'b']\n"
     ]
    }
   ],
   "source": [
    "s = \"abssjdlldabkiikab\"\n",
    "r = re.compile(\".\") # . matches with all chars\n",
    "l = re.findall(r,s)\n",
    "print(l)"
   ]
  },
  {
   "cell_type": "code",
   "execution_count": 5,
   "metadata": {},
   "outputs": [
    {
     "name": "stdout",
     "output_type": "stream",
     "text": [
      "['a', 'b', 's', 's', 'j', 'i', 'i', 'k', 'a', 'b']\n"
     ]
    }
   ],
   "source": [
    "s = \"abssj!@#iikab\"\n",
    "r = re.compile(\"[a-z]\") \n",
    "l = re.findall(r,s)\n",
    "print(l)"
   ]
  },
  {
   "cell_type": "code",
   "execution_count": 7,
   "metadata": {},
   "outputs": [
    {
     "name": "stdout",
     "output_type": "stream",
     "text": [
      "['1', '2', '3', '4']\n"
     ]
    }
   ],
   "source": [
    "s = \"abs12###dsd34\"\n",
    "r = re.compile(\"[0-9]\") \n",
    "l = re.findall(r,s)\n",
    "print(l)"
   ]
  },
  {
   "cell_type": "code",
   "execution_count": 8,
   "metadata": {},
   "outputs": [
    {
     "name": "stdout",
     "output_type": "stream",
     "text": [
      "['12', '34']\n"
     ]
    }
   ],
   "source": [
    "s = \"abs12###dsd34\"\n",
    "r = re.compile(\"[0-9]+\")\n",
    "l = re.findall(r,s)\n",
    "print(l)"
   ]
  },
  {
   "cell_type": "code",
   "execution_count": 16,
   "metadata": {},
   "outputs": [
    {
     "name": "stdout",
     "output_type": "stream",
     "text": [
      "['3', '', '34', '']\n"
     ]
    }
   ],
   "source": [
    "s = \"3w34\"\n",
    "r = re.compile(\"[0-9]*\") \n",
    "l = re.findall(r,s)\n",
    "print(l)"
   ]
  },
  {
   "cell_type": "code",
   "execution_count": 18,
   "metadata": {},
   "outputs": [
    {
     "name": "stdout",
     "output_type": "stream",
     "text": [
      "['d3']\n"
     ]
    }
   ],
   "source": [
    "s = \"abcd34\"\n",
    "r = re.compile(\"[a-z][0-9]\") \n",
    "l = re.findall(r,s)\n",
    "print(l)"
   ]
  },
  {
   "cell_type": "code",
   "execution_count": 19,
   "metadata": {},
   "outputs": [
    {
     "name": "stdout",
     "output_type": "stream",
     "text": [
      "['abcd34']\n"
     ]
    }
   ],
   "source": [
    "s = \"abcd34\"\n",
    "r = re.compile(\"[a-z]*[0-9]+\") \n",
    "l = re.findall(r,s)\n",
    "print(l)"
   ]
  },
  {
   "cell_type": "code",
   "execution_count": 21,
   "metadata": {},
   "outputs": [
    {
     "name": "stdout",
     "output_type": "stream",
     "text": [
      "['abcd1234']\n"
     ]
    }
   ],
   "source": [
    "s = \"abcd1234\"\n",
    "r = re.compile(\"[a-z]+[0-9]+\") \n",
    "l = re.findall(r,s)\n",
    "print(l)"
   ]
  },
  {
   "cell_type": "code",
   "execution_count": 22,
   "metadata": {},
   "outputs": [
    {
     "name": "stdout",
     "output_type": "stream",
     "text": [
      "['abcd1234']\n"
     ]
    }
   ],
   "source": [
    "s = \"abcd1234\"\n",
    "r = re.compile(\"^[a-z]+[0-9]+\") \n",
    "l = re.findall(r,s)\n",
    "print(l)"
   ]
  },
  {
   "cell_type": "code",
   "execution_count": 23,
   "metadata": {},
   "outputs": [
    {
     "name": "stdout",
     "output_type": "stream",
     "text": [
      "[]\n"
     ]
    }
   ],
   "source": [
    "s = \"0abcd1234\"\n",
    "r = re.compile(\"^[a-z]+[0-9]+\") \n",
    "l = re.findall(r,s)\n",
    "print(l)"
   ]
  },
  {
   "cell_type": "code",
   "execution_count": 38,
   "metadata": {},
   "outputs": [
    {
     "name": "stdout",
     "output_type": "stream",
     "text": [
      "['xyz98']\n"
     ]
    }
   ],
   "source": [
    "s = \"abcd1234xyz98\"\n",
    "r = re.compile(\"[a-z]+[0-9]+$\") \n",
    "l = re.findall(r,s)\n",
    "print(l)"
   ]
  },
  {
   "cell_type": "code",
   "execution_count": 45,
   "metadata": {},
   "outputs": [
    {
     "name": "stdout",
     "output_type": "stream",
     "text": [
      "['abcd1234', 'xyz98']\n"
     ]
    }
   ],
   "source": [
    "s = \"abcd1234xyz98\"\n",
    "r = re.compile(\"[a-z]{3,4}[0-9]{2,4}\") \n",
    "l = re.findall(r,s)\n",
    "print(l)"
   ]
  },
  {
   "cell_type": "code",
   "execution_count": 47,
   "metadata": {},
   "outputs": [
    {
     "name": "stdout",
     "output_type": "stream",
     "text": [
      "abcd1234\n"
     ]
    }
   ],
   "source": [
    "s = \"abcd1234xyz98\"\n",
    "r = re.compile(\"[a-z]{3,4}[0-9]{2,4}\") \n",
    "l = re.search(r,s)\n",
    "if l:\n",
    "    print(l.group())\n",
    "else:\n",
    "    print('Not Found')"
   ]
  },
  {
   "cell_type": "code",
   "execution_count": 58,
   "metadata": {},
   "outputs": [
    {
     "name": "stdout",
     "output_type": "stream",
     "text": [
      "AXPPA4460Q\n"
     ]
    }
   ],
   "source": [
    "s = \"AXPPA4460Q\"\n",
    "r = re.compile(\"^[A-Z]{5}[0-9]{4}[A-Z]{1}$\")\n",
    "m = re.search(r,s)\n",
    "if m:\n",
    "    print(m.group())\n",
    "else:\n",
    "    print('Pattern not found')"
   ]
  },
  {
   "cell_type": "code",
   "execution_count": 83,
   "metadata": {},
   "outputs": [
    {
     "name": "stdout",
     "output_type": "stream",
     "text": [
      "Pattern not found\n"
     ]
    }
   ],
   "source": [
    "s = \"abcd_12@gmail.co.in\"\n",
    "r = re.compile(\"^[a-z0-9]+@[a-z0-9]+(((\\.)[a-z]{2,4})+)$\")\n",
    "m = re.search(r,s)\n",
    "if m:\n",
    "    print(m.group())\n",
    "else:\n",
    "    print('Pattern not found')"
   ]
  },
  {
   "cell_type": "code",
   "execution_count": 96,
   "metadata": {},
   "outputs": [
    {
     "name": "stdout",
     "output_type": "stream",
     "text": [
      "6123456789\n"
     ]
    }
   ],
   "source": [
    "s = \"(+91)6123456789\"\n",
    "s1 = \"6123456789\"\n",
    "r = re.compile(\"^(\\(\\+91\\))?[6-9][0-9]{9}$\")\n",
    "m = re.search(r,s1)\n",
    "if(m):\n",
    "    print(m.group())\n",
    "else:\n",
    "    print(\"Not found\")"
   ]
  },
  {
   "cell_type": "code",
   "execution_count": 8,
   "metadata": {},
   "outputs": [],
   "source": [
    "[0-9 a-z A-Z] \\w\n",
    "[^0-9 a-z A-Z] \\W => This will give special chars\n",
    "[0-9] \\d => This will give digits\n",
    "[^0-9] \\D => This will give alpha\n",
    "\\s = mathces with space\n",
    "\\S => mathes characters without spaces\n",
    "re.I => ignore case"
   ]
  },
  {
   "cell_type": "code",
   "execution_count": 10,
   "metadata": {},
   "outputs": [
    {
     "name": "stdout",
     "output_type": "stream",
     "text": [
      "aaas\n"
     ]
    }
   ],
   "source": [
    "import re\n",
    "s = \"aaas61_23456789\"\n",
    "r = re.compile(\"\\D+\")\n",
    "m = re.search(r,s)\n",
    "if(m):\n",
    "    print(m.group())\n",
    "else:\n",
    "    print(\"Not found\")"
   ]
  },
  {
   "cell_type": "code",
   "execution_count": null,
   "metadata": {},
   "outputs": [],
   "source": []
  },
  {
   "cell_type": "code",
   "execution_count": null,
   "metadata": {},
   "outputs": [],
   "source": []
  },
  {
   "cell_type": "code",
   "execution_count": null,
   "metadata": {},
   "outputs": [],
   "source": []
  },
  {
   "cell_type": "code",
   "execution_count": null,
   "metadata": {},
   "outputs": [],
   "source": []
  }
 ],
 "metadata": {
  "kernelspec": {
   "display_name": "Python 3",
   "language": "python",
   "name": "python3"
  },
  "language_info": {
   "codemirror_mode": {
    "name": "ipython",
    "version": 3
   },
   "file_extension": ".py",
   "mimetype": "text/x-python",
   "name": "python",
   "nbconvert_exporter": "python",
   "pygments_lexer": "ipython3",
   "version": "3.7.3"
  }
 },
 "nbformat": 4,
 "nbformat_minor": 2
}
