{
 "cells": [
  {
   "cell_type": "code",
   "execution_count": null,
   "metadata": {},
   "outputs": [],
   "source": [
    "# Keyword Density Problem"
   ]
  },
  {
   "cell_type": "code",
   "execution_count": 9,
   "metadata": {},
   "outputs": [
    {
     "name": "stdout",
     "output_type": "stream",
     "text": [
      "The total number of words in this file are 617\n",
      "The keyword density for the word artificial intelligence is: 0.008103727714748784\n"
     ]
    }
   ],
   "source": [
    "# We need regular expression\n",
    "import re\n",
    "\n",
    "# Open the blog file\n",
    "fp = open('blog.txt','r')\n",
    "raw_content = fp.read()\n",
    "\n",
    "words = re.compile(\"[a-zA-Z]+\") # Reg exp to find all words\n",
    "all_words = re.findall(words, raw_content)\n",
    "all_words_count = len(all_words)\n",
    "all_unique_words = set(all_words)\n",
    "print('The total number of words in this file are {}'.format(all_words_count))\n",
    "\n",
    "target_word = \"Artificial Intelligence\".lower()\n",
    "target_word_count = raw_content.count(target_word)\n",
    "    \n",
    "keyword_density = target_word_count / all_words_count\n",
    "print('The keyword density for the word {} is: {}'.format(target_word ,keyword_density))\n",
    "fp.close()"
   ]
  },
  {
   "cell_type": "code",
   "execution_count": 21,
   "metadata": {},
   "outputs": [
    {
     "name": "stdout",
     "output_type": "stream",
     "text": [
      "The total number of words in this file are 611\n",
      "[('and', 0.03927986906710311), ('of', 0.03436988543371522), ('a', 0.029459901800327332), ('to', 0.029459901800327332), ('the', 0.029459901800327332), ('AI', 0.022913256955810146), ('is', 0.022913256955810146), ('that', 0.016366612111292964), ('it', 0.014729950900163666), ('machine', 0.01309328968903437)]\n"
     ]
    }
   ],
   "source": [
    "# Keyword Density for all words\n",
    "# We need regular expression\n",
    "import re\n",
    "\n",
    "# Open the blog file\n",
    "fp = open('blog.txt','r')\n",
    "raw_content = fp.read()\n",
    "\n",
    "words = re.compile(\"[a-zA-Z’]+\") # Reg exp to find all words\n",
    "all_words = re.findall(words, raw_content)\n",
    "all_words_count = len(all_words)\n",
    "all_unique_words = set(all_words)\n",
    "print('The total number of words in this file are {}'.format(all_words_count))\n",
    "\n",
    "target_word = \"the\".lower()\n",
    "target_word_count = raw_content.count(target_word)\n",
    "keyword_density = {}\n",
    "for word in all_unique_words:\n",
    "    keyword_density.setdefault(word,all_words.count(word)/ all_words_count) \n",
    "\n",
    "most_freq = sorted(keyword_density.items() , reverse = True, key = lambda val : val[1])\n",
    "print(most_freq[:10])\n",
    "fp.close()"
   ]
  },
  {
   "cell_type": "code",
   "execution_count": 14,
   "metadata": {},
   "outputs": [
    {
     "name": "stdout",
     "output_type": "stream",
     "text": [
      "['\\n\\nWe’re rapidly moving towards a day and age where almost everything can be controlled by machines and one of the most revolutionary moves has been the advent of artificial intelligence.', '\\n\\n \\n\\nTypes\\n\\nNext in line with this artificial intelligence online course is understanding the various types of AI.']\n"
     ]
    }
   ],
   "source": [
    "import re\n",
    "fp = open('blog.txt','r')\n",
    "raw_content = fp.read()\n",
    "\n",
    "sentense = re.compile(\"[a-zA-Z\\s’]+\\.\")\n",
    "all_sen = re.findall(sentense, raw_content)\n",
    "\n",
    "keyword = \"Artificial Intelligence\".lower()\n",
    "f = filter(lambda value: keyword in value, all_sen)\n",
    "print(list(f))\n",
    "fp.close()"
   ]
  },
  {
   "cell_type": "code",
   "execution_count": null,
   "metadata": {},
   "outputs": [],
   "source": [
    "import re\n",
    "fp = open('blog.txt', 'r')\n",
    "raw_content = fp.read()\n",
    "\n",
    "nchar = 100\n",
    "\n",
    "fp.close()"
   ]
  },
  {
   "cell_type": "code",
   "execution_count": 101,
   "metadata": {},
   "outputs": [
    {
     "name": "stdout",
     "output_type": "stream",
     "text": [
      "Getting started with Artificial Intelligence\n",
      "EdYoda  | 08 Jul 2019\n",
      "\n",
      "We’re rapidly moving towards a \n",
      "day and age where almost everything can be controlled by machines and one of the most revolutionary \n",
      "moves has been the advent of artificial intelligence. In this artificial intelligence course, we wil\n",
      "l talk about how to get started with AI and what exactly it is. While it began as a part of smartpho\n",
      "nes and other smart devices, AI has been increasingly taking over in other fields too. To begin with\n",
      ", one must understand what Artificial Intelligence is. It is an area of computer science focusing on\n",
      " the creation of intelligent machines that work and react like humans.\n",
      "\n",
      "Well, of course, there’s a l\n",
      "ot more to this simple-seeming definition and this phenomenon is surely headed to change the future.\n",
      "\n",
      "\n",
      " \n",
      "\n",
      "Goals\n",
      "\n",
      "Without us realizing, it has become amply clear that AI has become a part of a lot of in\n",
      "dustries in ways which now seem inseparable. If you are trying to learn artificial intelligence it i\n",
      "s firstly, important to understand the goals of AI.\n",
      "\n",
      " \n",
      "\n",
      "-        Primary goals: deduction and reason\n",
      "ing, knowledge representation, planning, Natural Language Processing (NLP), learning, perception and\n",
      " the ability to move and manipulate objects.\n",
      "\n",
      " \n",
      "\n",
      "-        Long-term goals: To achieve creativity, so\n",
      "cial intelligence, and human level intelligence.\n",
      "\n",
      " \n",
      "\n",
      "It is clear as day, that a lot of these goals h\n",
      "ave been achieved while a lot are on the way of being fulfilled. Moreover, the goals that have been \n",
      "achieved are surely being refined every day.\n",
      "\n",
      " \n",
      "\n",
      "Types\n",
      "\n",
      "Next in line with this artificial intelligen\n",
      "ce online course is understanding the various types of AI. There are a lot of categories that fall i\n",
      "nto AI but it can be divided into three basic concepts based on AI’s capabilities:\n",
      "\n",
      " \n",
      "\n",
      "-        Weak\n",
      ": Weak AI or Narrow AI, perform only one task. The AI has to be conditioned with a set of certain an\n",
      "swers and roles and it does not go beyond that, weak AI is thus not self-sufficient. An example of t\n",
      "his is iOs’ Siri.\n",
      "\n",
      " \n",
      "\n",
      "-        Strong: Strong AI can basically do everything that a human being can \n",
      "do. Imagine delivering food to people’s doorsteps. A lot of research is going into this and engineer\n",
      "s have made enough headway into it, but there’s still a long way to go.\n",
      "\n",
      " \n",
      "\n",
      "-        Superintelligen\n",
      "ce: Artificial superintelligence goes beyond strong AI. It can actually exceed human beings when it \n",
      "comes to creativity, general wisdom and even social skills.\n",
      "\n",
      " \n",
      "\n",
      "Core Concepts\n",
      "\n",
      "The core concepts tha\n",
      "t are currently guiding AI are:\n",
      "\n",
      " \n",
      "\n",
      "-        Machine Learning: Under machine learning, a machine is \n",
      "fed data which it learns to utilize without actually being explicitly programmed. The machine automa\n",
      "tically recognizes patterns and makes decisions.\n",
      "\n",
      " \n",
      "\n",
      "-        Deep Learning: Deep learning is a subf\n",
      "ield of machine learning and aims to simulate human thinking. The algorithms of this can automatical\n",
      "ly determine the accuracy of a prediction.\n",
      "\n",
      " \n",
      "\n",
      "-        Supervised Learning: Under supervised learni\n",
      "ng a machine is fed data with labels and categorizations, leading the machine to churn out only the \n",
      "same and right answers.\n",
      "\n",
      " \n",
      "\n",
      "-        Unsupervised Learning: With unsupervised learning, on the other\n",
      " hand, the machine is fed data without any labels or categories yet the machine manages to find patt\n",
      "erns and create categories\n",
      "\n",
      " \n",
      "\n",
      "-        Reinforcement Learning: The algorithm works on trial and err\n",
      "or and has to be conditioned using reinforcement much like the human mind.\n",
      "\n",
      " \n",
      "\n",
      "Getting Started\n",
      "\n",
      "Now \n",
      "that you know, the basic concepts and the foundation of AI, it’s time to invest your time and resour\n",
      "ces in a programming languages course. There are a lot of languages you can start with but many tend\n",
      " to prefer Python.\n",
      "\n",
      " \n",
      "\n",
      "You can learn Python and take a comprehensive artificial intelligence course \n",
      "only on Edyoda, that too for free.\n",
      "\n",
      " \n",
      "\n",
      "For more, head down to https://www.edyoda.com/\n"
     ]
    }
   ],
   "source": [
    "fp = open('blog.txt', 'r')\n",
    "raw_content = fp.read()\n",
    "#print(raw_content)\n",
    "count = 0\n",
    "string_wrapped = \"\"\n",
    "for chars in raw_content:\n",
    "    count += 1\n",
    "    if count == 100:\n",
    "        string_wrapped+=\"\\n\"\n",
    "        count = 0\n",
    "    string_wrapped += chars\n",
    "print(string_wrapped)\n",
    "fp.close()"
   ]
  },
  {
   "cell_type": "code",
   "execution_count": 67,
   "metadata": {},
   "outputs": [
    {
     "data": {
      "text/plain": [
       "'We’re rapidly moving towards a day and age where almost everything can be controlled by machines and one of the most revolutionary moves has been the advent of artificial intelligence. In this artificial intelligence course, we will talk about how to get started with AI and what exactly it is. While it began as a part of smartphones and other smart devices, AI has been increasingly taking over in other fields too.'"
      ]
     },
     "execution_count": 67,
     "metadata": {},
     "output_type": "execute_result"
    }
   ],
   "source": [
    "s1"
   ]
  },
  {
   "cell_type": "code",
   "execution_count": 93,
   "metadata": {},
   "outputs": [
    {
     "name": "stdout",
     "output_type": "stream",
     "text": [
      "We’re rapidly moving towards a day and age where almost everything can be controlled by machines and\n",
      " one of the most revolutionary moves has been the advent of artificial intelligence. In this artifici\n",
      "al intelligence course, we will talk about how to get started with AI and what exactly it is. While i\n",
      "t began as a part of smartphones and other smart devices, AI has been increasingly taking over in oth\n",
      "er fields too.\n"
     ]
    }
   ],
   "source": [
    "s1 = 'We’re rapidly moving towards a day and age where almost everything can be controlled by machines and one of the most revolutionary moves has been the advent of artificial intelligence. In this artificial intelligence course, we will talk about how to get started with AI and what exactly it is. While it began as a part of smartphones and other smart devices, AI has been increasingly taking over in other fields too.'\n",
    "count = 0\n",
    "string_wrapped = \"\"\n",
    "for chars in s1:\n",
    "    count += 1\n",
    "    if count == 101:\n",
    "        string_wrapped+=\"\\n\"\n",
    "        count = 0\n",
    "    string_wrapped += chars\n",
    "print(string_wrapped)\n",
    "        "
   ]
  },
  {
   "cell_type": "code",
   "execution_count": null,
   "metadata": {},
   "outputs": [],
   "source": []
  },
  {
   "cell_type": "code",
   "execution_count": null,
   "metadata": {},
   "outputs": [],
   "source": []
  },
  {
   "cell_type": "code",
   "execution_count": null,
   "metadata": {},
   "outputs": [],
   "source": []
  },
  {
   "cell_type": "code",
   "execution_count": null,
   "metadata": {},
   "outputs": [],
   "source": []
  },
  {
   "cell_type": "code",
   "execution_count": null,
   "metadata": {},
   "outputs": [],
   "source": []
  },
  {
   "cell_type": "code",
   "execution_count": null,
   "metadata": {},
   "outputs": [],
   "source": []
  }
 ],
 "metadata": {
  "kernelspec": {
   "display_name": "Python 3",
   "language": "python",
   "name": "python3"
  },
  "language_info": {
   "codemirror_mode": {
    "name": "ipython",
    "version": 3
   },
   "file_extension": ".py",
   "mimetype": "text/x-python",
   "name": "python",
   "nbconvert_exporter": "python",
   "pygments_lexer": "ipython3",
   "version": "3.7.3"
  }
 },
 "nbformat": 4,
 "nbformat_minor": 2
}
