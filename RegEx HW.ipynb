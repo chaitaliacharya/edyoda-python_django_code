{
 "cells": [
  {
   "cell_type": "code",
   "execution_count": 188,
   "metadata": {},
   "outputs": [],
   "source": [
    "#combine file program\n",
    "import re\n",
    "fp1 = open(\"D:\\Python file\\Python 1.txt\",\"r\") \n",
    "fp2 = open(\"D:\\Python file\\Python 2.txt\",\"r\")\n",
    "\n",
    "content1 = fp1.readline()\n",
    "content2 = fp2.readline()\n",
    "combine = content1 + content2\n",
    "\n",
    "pattern = \"[0-9]+\"\n",
    "r = re.compile(pattern)\n",
    "m = re.findall(pattern, combine)\n",
    "\n",
    "if m:\n",
    "    fp3 = open(\"Combined.txt\",\"a+\")\n",
    "    fp1.seek(0)\n",
    "    fp2.seek(0)\n",
    "    content_from_file1 = fp1.read()\n",
    "    content_from_file2 = fp2.read()\n",
    "    \n",
    "    if m[0] < m[1]:\n",
    "        fp3.write(content_from_file1)\n",
    "        fp3.write(content_from_file2)\n",
    "    else:\n",
    "        fp3.write(content_from_file2)\n",
    "        fp3.write(content_from_file1)\n",
    "    fp3.close() \n",
    "    \n",
    "fp1.close()\n",
    "fp2.close()"
   ]
  },
  {
   "cell_type": "code",
   "execution_count": 65,
   "metadata": {},
   "outputs": [
    {
     "name": "stdout",
     "output_type": "stream",
     "text": [
      "Invalid Date for month 11\n"
     ]
    }
   ],
   "source": [
    "# Date validation\n",
    "import re\n",
    "s = \"31-11-2019\"\n",
    "r = re.compile(\"([0-9]{1,2})-([0-9]{1,2})-([0-9]{4})\")\n",
    "m = re.search(r,s)\n",
    "\n",
    "day_range = range(1,32)\n",
    "month_range = range(1,13)\n",
    "leap_year = 0\n",
    "\n",
    "if m:\n",
    "    day = int(m.group(1))\n",
    "    month = int(m.group(2))\n",
    "    year = int(m.group(3))\n",
    "    \n",
    "    #Leap year\n",
    "    if (year %4 ==0) and (year % 100!=0 or year % 400==0):\n",
    "        leap_year = 1\n",
    "    \n",
    "    if day not in day_range or month not in month_range:\n",
    "        print(\"Invalid Date\",s)\n",
    "    elif month in (4,6,9,11,12) and day > 30:\n",
    "        print(\"Invalid Date for month\", month)\n",
    "    elif leap_year == 1 and month ==2 and day > 29:\n",
    "        print(\"Invalid date for leap year\", s)\n",
    "    elif leap_year == 0 and month ==2 and day > 28:\n",
    "        print(\"Invalid date for Feb month\",s)\n",
    "    else:\n",
    "        print(\"Valid Date:\",s)\n",
    "else:\n",
    "    print('Pattern not found')\n",
    "\n",
    "        "
   ]
  },
  {
   "cell_type": "code",
   "execution_count": 79,
   "metadata": {},
   "outputs": [
    {
     "name": "stdout",
     "output_type": "stream",
     "text": [
      "Invalid email\n"
     ]
    }
   ],
   "source": [
    "# s = 'cha.1@gmail.com'\n",
    "# r = re.compile(\"^[a-z0-9]+@[a-z0-9]+(\\.[a-z]{2,3}){1,2}$\")\n",
    "# m = re.search(r,s)\n",
    "# if m:\n",
    "#     print(m.group())\n",
    "# else:\n",
    "#     print(\"Invalid email\")\n",
    "    \n",
    "    \n",
    "    \n",
    "\n",
    " "
   ]
  },
  {
   "cell_type": "code",
   "execution_count": 181,
   "metadata": {},
   "outputs": [
    {
     "name": "stdout",
     "output_type": "stream",
     "text": [
      "Valid email -  chaitali.acharya321@gmail.com\n"
     ]
    }
   ],
   "source": [
    "# s = \"abc._@gmail.com\" #=> invalid\n",
    "#s = \"abc.1@gmail.com\" # => valid\n",
    "#s = \"abc.1.2@gmail.com\" # => invalid\n",
    "#s= \"abc.1_2@xyz.co.in\" # => valid \n",
    "\n",
    "\n",
    "s = 'chaitali.acharya321@gmail.com'\n",
    "r = re.compile(\"^[a-z0-9]+((\\.)[a-z0-9]+){1}((\\_)[a-z0-9])*@[a-z0-9]+(\\.[a-z]{2,3}){1,2}$\")\n",
    "m = re.search(r,s)\n",
    "if m:\n",
    "    print(\"Valid email - \",m.group())\n",
    "else:\n",
    "    print(\"Invalid email\")"
   ]
  },
  {
   "cell_type": "code",
   "execution_count": null,
   "metadata": {},
   "outputs": [],
   "source": []
  },
  {
   "cell_type": "code",
   "execution_count": null,
   "metadata": {},
   "outputs": [],
   "source": []
  },
  {
   "cell_type": "code",
   "execution_count": null,
   "metadata": {},
   "outputs": [],
   "source": []
  },
  {
   "cell_type": "code",
   "execution_count": null,
   "metadata": {},
   "outputs": [],
   "source": []
  }
 ],
 "metadata": {
  "kernelspec": {
   "display_name": "Python 3",
   "language": "python",
   "name": "python3"
  }
 },
 "nbformat": 4,
 "nbformat_minor": 2
}
